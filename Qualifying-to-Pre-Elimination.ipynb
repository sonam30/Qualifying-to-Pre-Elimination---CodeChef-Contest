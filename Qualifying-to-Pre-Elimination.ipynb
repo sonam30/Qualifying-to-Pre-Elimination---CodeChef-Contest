{
 "cells": [
  {
   "cell_type": "code",
   "execution_count": 2,
   "metadata": {},
   "outputs": [
    {
     "name": "stdout",
     "output_type": "stream",
     "text": [
      "2\n",
      "5 1\n",
      "3 5 2 4 5\n",
      "6 4\n",
      "6 5 4 3 2 1\n",
      "2\n",
      "4\n"
     ]
    }
   ],
   "source": [
    "output=[]\n",
    "p=0\n",
    "\n",
    "# Input Test cases\n",
    "t=int(input())\n",
    "while (t<1) | (t>1e3):\n",
    "    t=int(input())\n",
    "sum_flag=True\n",
    "score=True\n",
    "p=0\n",
    "while (sum_flag):\n",
    "    \n",
    "    # Loop for 'T' Test cases\n",
    "    for i in range(t):\n",
    "        \n",
    "        # Input N and K values\n",
    "        n,k=map(int,input().split())\n",
    "        \n",
    "        # Constraint check for N and K\n",
    "        while ((((n<1) | (n>1e5)) | ((k<1) | (k>1e5))) | (k>n)):\n",
    "            n,k=map(int,input().split())\n",
    "        p+=n\n",
    "        \n",
    "        # Constraint check for Sum of all N values\n",
    "        if (p >1e6):\n",
    "            sum_flag=True\n",
    "            score=False\n",
    "        else:\n",
    "            sum_flag=False\n",
    "            score=True\n",
    "        if score:\n",
    "            \n",
    "            # Input space seprated N integer\n",
    "            s=input()\n",
    "            len_input=len(s.split())\n",
    "            a = list(map(int,s.strip().split()))[:len_input]\n",
    "            \n",
    "            #Constraint check for all the input score\n",
    "            check=[False for x in range(len(a)) if a[x]>1e9]\n",
    "            while ((len(s.split())!=n) | (check==False)):\n",
    "                s[i]=input()\n",
    "                len_input=len(s.split())\n",
    "                a[i] = list(map(int,s.strip().split()))[:len_input]\n",
    "                check=[False for x in range(len(a)) if a[x]>1e9]\n",
    "            a.sort(reverse=True)\n",
    "            \n",
    "            #Output for all the test cases\n",
    "            output.append(len([x for x,score in enumerate(a) if score >=a[k-1]]))\n",
    "\n",
    "    \n",
    "print(*output,sep=\"\\n\")\n",
    "    "
   ]
  },
  {
   "cell_type": "code",
   "execution_count": null,
   "metadata": {},
   "outputs": [],
   "source": []
  }
 ],
 "metadata": {
  "kernelspec": {
   "display_name": "Python 3",
   "language": "python",
   "name": "python3"
  },
  "language_info": {
   "codemirror_mode": {
    "name": "ipython",
    "version": 3
   },
   "file_extension": ".py",
   "mimetype": "text/x-python",
   "name": "python",
   "nbconvert_exporter": "python",
   "pygments_lexer": "ipython3",
   "version": "3.7.6"
  }
 },
 "nbformat": 4,
 "nbformat_minor": 4
}
